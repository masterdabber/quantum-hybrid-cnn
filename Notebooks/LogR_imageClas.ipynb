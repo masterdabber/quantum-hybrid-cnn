{
 "cells": [
  {
   "cell_type": "code",
   "execution_count": 6,
   "id": "42362f90-651e-4b53-a487-233bbf6fdf30",
   "metadata": {},
   "outputs": [],
   "source": [
    "import torch\n",
    "import torchvision\n",
    "from torchvision.datasets import MNIST"
   ]
  },
  {
   "cell_type": "code",
   "execution_count": 7,
   "id": "2f847cd1-2294-4706-9442-e54dc22d9fde",
   "metadata": {
    "scrolled": true
   },
   "outputs": [],
   "source": [
    " dataset = MNIST(root = 'MNIST_data/', download = True)"
   ]
  },
  {
   "cell_type": "code",
   "execution_count": 8,
   "id": "697076f8-bd1d-4ab7-81f9-7719f8f7dcfb",
   "metadata": {},
   "outputs": [
    {
     "data": {
      "text/plain": [
       "60000"
      ]
     },
     "execution_count": 8,
     "metadata": {},
     "output_type": "execute_result"
    }
   ],
   "source": [
    "len(dataset)"
   ]
  },
  {
   "cell_type": "code",
   "execution_count": 9,
   "id": "00690e31-929b-4833-b49f-2132c3d0ddb0",
   "metadata": {},
   "outputs": [],
   "source": [
    "test_dataset = MNIST(root = 'MNISt_data/', train = False)"
   ]
  },
  {
   "cell_type": "code",
   "execution_count": 10,
   "id": "4a86dabf-b05f-46dd-a3e4-0c4add6a52dd",
   "metadata": {},
   "outputs": [
    {
     "data": {
      "text/plain": [
       "10000"
      ]
     },
     "execution_count": 10,
     "metadata": {},
     "output_type": "execute_result"
    }
   ],
   "source": [
    "len(test_dataset)"
   ]
  },
  {
   "cell_type": "code",
   "execution_count": 11,
   "id": "ee94a658-fb33-4bfd-ad0c-b6013d1d9478",
   "metadata": {},
   "outputs": [
    {
     "data": {
      "text/plain": [
       "(<PIL.Image.Image image mode=L size=28x28>, 5)"
      ]
     },
     "execution_count": 11,
     "metadata": {},
     "output_type": "execute_result"
    }
   ],
   "source": [
    "dataset[0]"
   ]
  },
  {
   "cell_type": "code",
   "execution_count": 12,
   "id": "245737fc-479e-4043-9c67-e9de7fc611bb",
   "metadata": {},
   "outputs": [],
   "source": [
    "import matplotlib.pyplot as plt"
   ]
  },
  {
   "cell_type": "code",
   "execution_count": 13,
   "id": "d5e2dcc8-96ba-440e-a27a-bf259cf6afc2",
   "metadata": {},
   "outputs": [],
   "source": [
    "%matplotlib inline"
   ]
  },
  {
   "cell_type": "code",
   "execution_count": 14,
   "id": "4ab6a88b-c95f-436f-81cb-c8104078e0c5",
   "metadata": {},
   "outputs": [
    {
     "name": "stdout",
     "output_type": "stream",
     "text": [
      "Label:5\n"
     ]
    },
    {
     "data": {
      "image/png": "[encoded data removed]",
      "text/plain": [
       "<Figure size 640x480 with 1 Axes>"
      ]
     },
     "metadata": {},
     "output_type": "display_data"
    }
   ],
   "source": [
    "image, label = dataset[0]\n",
    "plt.imshow(image, cmap ='gray')\n",
    "print(f'Label:{label}')"
   ]
  },
  {
   "cell_type": "code",
   "execution_count": 20,
   "id": "6ee84928-1fc4-46b4-beaf-17e415da4f05",
   "metadata": {},
   "outputs": [],
   "source": [
    "dataset = MNIST(root= 'MNIST_data/', train = True, transform = transforms.ToTensor())"
   ]
  },
  {
   "cell_type": "code",
   "execution_count": 21,
   "id": "d9708411-18cb-470a-b75f-a0858e20bb75",
   "metadata": {},
   "outputs": [],
   "source": [
    "img_tensor,label = dataset[0]"
   ]
  },
  {
   "cell_type": "code",
   "execution_count": 24,
   "id": "ab395f6d-4206-408d-9fcf-a13fe0369402",
   "metadata": {},
   "outputs": [
    {
     "name": "stdout",
     "output_type": "stream",
     "text": [
      "torch.Size([1, 28, 28]) 5\n"
     ]
    }
   ],
   "source": [
    "print(img_tensor.shape, label)"
   ]
  },
  {
   "cell_type": "code",
   "execution_count": 26,
   "id": "5122e20a-5158-419a-8048-ac22c34c689d",
   "metadata": {},
   "outputs": [
    {
     "name": "stdout",
     "output_type": "stream",
     "text": [
      "tensor([[[0.0039, 0.6039, 0.9922, 0.3529, 0.0000],\n",
      "         [0.0000, 0.5451, 0.9922, 0.7451, 0.0078],\n",
      "         [0.0000, 0.0431, 0.7451, 0.9922, 0.2745],\n",
      "         [0.0000, 0.0000, 0.1373, 0.9451, 0.8824],\n",
      "         [0.0000, 0.0000, 0.0000, 0.3176, 0.9412]]])\n"
     ]
    }
   ],
   "source": [
    "print(img_tensor[:, 10:15, 10:15])"
   ]
  },
  {
   "cell_type": "code",
   "execution_count": 28,
   "id": "3b02f967-84ee-4367-a09a-602381431db9",
   "metadata": {},
   "outputs": [
    {
     "data": {
      "text/plain": [
       "<matplotlib.image.AxesImage at 0x190b710fb10>"
      ]
     },
     "execution_count": 28,
     "metadata": {},
     "output_type": "execute_result"
    },
    {
     "data": {
      "image/png": "[encoded data removed]",
      "text/plain": [
       "<Figure size 640x480 with 1 Axes>"
      ]
     },
     "metadata": {},
     "output_type": "display_data"
    }
   ],
   "source": [
    "plt.imshow(img_tensor[0,10:15,10:15], cmap = 'gray')"
   ]
  },
  {
   "cell_type": "code",
   "execution_count": 29,
   "id": "be6a64bc-37bb-4ef3-9ad8-27b2396a0ddf",
   "metadata": {},
   "outputs": [],
   "source": [
    "import numpy as np"
   ]
  },
  {
   "cell_type": "code",
   "execution_count": 31,
   "id": "d0b187cc-9924-43a8-91a0-8690175780b6",
   "metadata": {},
   "outputs": [],
   "source": [
    "def split_indices(n, val_pct):\n",
    "    n_val = int(val_pct*n)\n",
    "    inxs = np.random.permutation(n)\n",
    "    return inxs[n_val:],inxs[:n_val]"
   ]
  },
  {
   "cell_type": "code",
   "execution_count": 33,
   "id": "797ccb8d-0d0a-4690-95f5-7f1e209572c3",
   "metadata": {},
   "outputs": [],
   "source": [
    "train_indices, val_indices = split_indices(len(dataset), val_pct = 0.2)"
   ]
  },
  {
   "cell_type": "code",
   "execution_count": 34,
   "id": "42e8b764-78d4-4b71-ae47-6b251b996f21",
   "metadata": {},
   "outputs": [
    {
     "name": "stdout",
     "output_type": "stream",
     "text": [
      "48000\n"
     ]
    }
   ],
   "source": [
    "print(len(train_indices))"
   ]
  },
  {
   "cell_type": "code",
   "execution_count": 35,
   "id": "f2a65e66-29c2-4678-9112-c839313b0cee",
   "metadata": {},
   "outputs": [],
   "source": [
    "from torch.utils.data.sampler import SubsetRandomSampler"
   ]
  },
  {
   "cell_type": "code",
   "execution_count": 36,
   "id": "80553f03-de10-4e03-af3c-c3056b7ce371",
   "metadata": {},
   "outputs": [],
   "source": [
    "from torch.utils.data.dataloader import DataLoader"
   ]
  },
  {
   "cell_type": "code",
   "execution_count": 37,
   "id": "c7508b91-39f6-4b65-b33d-3a1b9ea1cc30",
   "metadata": {},
   "outputs": [],
   "source": [
    "batch_size = 100"
   ]
  },
  {
   "cell_type": "code",
   "execution_count": 46,
   "id": "7d2d6ed5-4c3d-4419-a93b-a2ab7f8ebe8a",
   "metadata": {},
   "outputs": [],
   "source": [
    "train_sampler = SubsetRandomSampler (train_indices)\n",
    "train_loader = DataLoader(dataset, 100, sampler = train_sampler)\n",
    "val_sampler = SubsetRandomSampler (val_indices)\n",
    "val_loader = DataLoader(dataset, 100, sampler = val_sampler)"
   ]
  },
  {
   "cell_type": "code",
   "execution_count": 47,
   "id": "e75f2f22-9f69-4bdb-9aa5-a8ea314b9449",
   "metadata": {},
   "outputs": [],
   "source": [
    "import torch.nn as nn"
   ]
  },
  {
   "cell_type": "code",
   "execution_count": 48,
   "id": "a80b3d18-ab23-42b2-ba0b-9c29dddc9fb3",
   "metadata": {},
   "outputs": [],
   "source": [
    "input_size = 28*28\n",
    "num_classes = 10"
   ]
  },
  {
   "cell_type": "code",
   "execution_count": 49,
   "id": "5061fa70-069d-4739-b3bb-5db6a76f9af4",
   "metadata": {},
   "outputs": [],
   "source": [
    "model = nn.Linear(input_size, num_classes)"
   ]
  },
  {
   "cell_type": "code",
   "execution_count": 50,
   "id": "24398ba4-8e4e-4617-9cc4-36270bb750b0",
   "metadata": {},
   "outputs": [
    {
     "data": {
      "text/plain": [
       "torch.Size([10, 784])"
      ]
     },
     "execution_count": 50,
     "metadata": {},
     "output_type": "execute_result"
    }
   ],
   "source": [
    "model.weight.shape"
   ]
  },
  {
   "cell_type": "code",
   "execution_count": 51,
   "id": "2c1c3115-6184-4899-b572-19df28f1ce2e",
   "metadata": {},
   "outputs": [
    {
     "name": "stdout",
     "output_type": "stream",
     "text": [
      "tensor([5, 5, 1, 6, 7, 7, 2, 2, 8, 8, 1, 5, 5, 3, 9, 1, 8, 8, 4, 1, 5, 9, 7, 7,\n",
      "        6, 4, 8, 3, 8, 9, 1, 7, 4, 8, 8, 9, 1, 2, 7, 1, 1, 2, 4, 7, 8, 7, 6, 9,\n",
      "        6, 1, 7, 8, 5, 3, 8, 2, 3, 9, 9, 9, 4, 9, 6, 6, 0, 5, 1, 1, 5, 9, 6, 7,\n",
      "        7, 5, 9, 1, 1, 0, 8, 2, 9, 5, 3, 4, 3, 5, 9, 4, 8, 3, 8, 8, 0, 6, 4, 7,\n",
      "        4, 2, 8, 6])\n",
      "torch.Size([100, 1, 28, 28])\n"
     ]
    },
    {
     "ename": "RuntimeError",
     "evalue": "mat1 and mat2 shapes cannot be multiplied (2800x28 and 784x10)",
     "output_type": "error",
     "traceback": [
      "\u001b[31m---------------------------------------------------------------------------\u001b[39m",
      "\u001b[31mRuntimeError\u001b[39m                              Traceback (most recent call last)",
      "\u001b[36mCell\u001b[39m\u001b[36m \u001b[39m\u001b[32mIn[51]\u001b[39m\u001b[32m, line 4\u001b[39m\n\u001b[32m      2\u001b[39m \u001b[38;5;28mprint\u001b[39m(labels)\n\u001b[32m      3\u001b[39m \u001b[38;5;28mprint\u001b[39m(images.shape)\n\u001b[32m----> \u001b[39m\u001b[32m4\u001b[39m outputs = \u001b[43mmodel\u001b[49m\u001b[43m(\u001b[49m\u001b[43mimages\u001b[49m\u001b[43m)\u001b[49m\n\u001b[32m      5\u001b[39m \u001b[38;5;28;01mbreak\u001b[39;00m\n",
      "\u001b[36mFile \u001b[39m\u001b[32m~\\OneDrive\\Documents\\Projects\\quantum_cnn_project\\proj2env\\Lib\\site-packages\\torch\\nn\\modules\\module.py:1751\u001b[39m, in \u001b[36mModule._wrapped_call_impl\u001b[39m\u001b[34m(self, *args, **kwargs)\u001b[39m\n\u001b[32m   1749\u001b[39m     \u001b[38;5;28;01mreturn\u001b[39;00m \u001b[38;5;28mself\u001b[39m._compiled_call_impl(*args, **kwargs)  \u001b[38;5;66;03m# type: ignore[misc]\u001b[39;00m\n\u001b[32m   1750\u001b[39m \u001b[38;5;28;01melse\u001b[39;00m:\n\u001b[32m-> \u001b[39m\u001b[32m1751\u001b[39m     \u001b[38;5;28;01mreturn\u001b[39;00m \u001b[38;5;28;43mself\u001b[39;49m\u001b[43m.\u001b[49m\u001b[43m_call_impl\u001b[49m\u001b[43m(\u001b[49m\u001b[43m*\u001b[49m\u001b[43margs\u001b[49m\u001b[43m,\u001b[49m\u001b[43m \u001b[49m\u001b[43m*\u001b[49m\u001b[43m*\u001b[49m\u001b[43mkwargs\u001b[49m\u001b[43m)\u001b[49m\n",
      "\u001b[36mFile \u001b[39m\u001b[32m~\\OneDrive\\Documents\\Projects\\quantum_cnn_project\\proj2env\\Lib\\site-packages\\torch\\nn\\modules\\module.py:1762\u001b[39m, in \u001b[36mModule._call_impl\u001b[39m\u001b[34m(self, *args, **kwargs)\u001b[39m\n\u001b[32m   1757\u001b[39m \u001b[38;5;66;03m# If we don't have any hooks, we want to skip the rest of the logic in\u001b[39;00m\n\u001b[32m   1758\u001b[39m \u001b[38;5;66;03m# this function, and just call forward.\u001b[39;00m\n\u001b[32m   1759\u001b[39m \u001b[38;5;28;01mif\u001b[39;00m \u001b[38;5;129;01mnot\u001b[39;00m (\u001b[38;5;28mself\u001b[39m._backward_hooks \u001b[38;5;129;01mor\u001b[39;00m \u001b[38;5;28mself\u001b[39m._backward_pre_hooks \u001b[38;5;129;01mor\u001b[39;00m \u001b[38;5;28mself\u001b[39m._forward_hooks \u001b[38;5;129;01mor\u001b[39;00m \u001b[38;5;28mself\u001b[39m._forward_pre_hooks\n\u001b[32m   1760\u001b[39m         \u001b[38;5;129;01mor\u001b[39;00m _global_backward_pre_hooks \u001b[38;5;129;01mor\u001b[39;00m _global_backward_hooks\n\u001b[32m   1761\u001b[39m         \u001b[38;5;129;01mor\u001b[39;00m _global_forward_hooks \u001b[38;5;129;01mor\u001b[39;00m _global_forward_pre_hooks):\n\u001b[32m-> \u001b[39m\u001b[32m1762\u001b[39m     \u001b[38;5;28;01mreturn\u001b[39;00m \u001b[43mforward_call\u001b[49m\u001b[43m(\u001b[49m\u001b[43m*\u001b[49m\u001b[43margs\u001b[49m\u001b[43m,\u001b[49m\u001b[43m \u001b[49m\u001b[43m*\u001b[49m\u001b[43m*\u001b[49m\u001b[43mkwargs\u001b[49m\u001b[43m)\u001b[49m\n\u001b[32m   1764\u001b[39m result = \u001b[38;5;28;01mNone\u001b[39;00m\n\u001b[32m   1765\u001b[39m called_always_called_hooks = \u001b[38;5;28mset\u001b[39m()\n",
      "\u001b[36mFile \u001b[39m\u001b[32m~\\OneDrive\\Documents\\Projects\\quantum_cnn_project\\proj2env\\Lib\\site-packages\\torch\\nn\\modules\\linear.py:125\u001b[39m, in \u001b[36mLinear.forward\u001b[39m\u001b[34m(self, input)\u001b[39m\n\u001b[32m    124\u001b[39m \u001b[38;5;28;01mdef\u001b[39;00m\u001b[38;5;250m \u001b[39m\u001b[34mforward\u001b[39m(\u001b[38;5;28mself\u001b[39m, \u001b[38;5;28minput\u001b[39m: Tensor) -> Tensor:\n\u001b[32m--> \u001b[39m\u001b[32m125\u001b[39m     \u001b[38;5;28;01mreturn\u001b[39;00m \u001b[43mF\u001b[49m\u001b[43m.\u001b[49m\u001b[43mlinear\u001b[49m\u001b[43m(\u001b[49m\u001b[38;5;28;43minput\u001b[39;49m\u001b[43m,\u001b[49m\u001b[43m \u001b[49m\u001b[38;5;28;43mself\u001b[39;49m\u001b[43m.\u001b[49m\u001b[43mweight\u001b[49m\u001b[43m,\u001b[49m\u001b[43m \u001b[49m\u001b[38;5;28;43mself\u001b[39;49m\u001b[43m.\u001b[49m\u001b[43mbias\u001b[49m\u001b[43m)\u001b[49m\n",
      "\u001b[31mRuntimeError\u001b[39m: mat1 and mat2 shapes cannot be multiplied (2800x28 and 784x10)"
     ]
    }
   ],
   "source": [
    "for images, labels in train_loader:\n",
    "    print(labels)\n",
    "    print(images.shape)\n",
    "    outputs = model(images)\n",
    "    break"
   ]
  },
  {
   "cell_type": "code",
   "execution_count": 52,
   "id": "9b5462d4-47fa-4527-b20d-5d02afa07f0f",
   "metadata": {},
   "outputs": [],
   "source": [
    "class MnistModel(nn.Module):\n",
    "    def __init__(self):\n",
    "        super().__init__()\n",
    "        self.linear = nn.Linear(input_size, num_classes)\n",
    "    def forward(self, xb):\n",
    "        xb = xb.reshape(-1, 784)\n",
    "        out = self.linear(xb)\n",
    "        return out\n",
    "model = MnistModel()"
   ]
  },
  {
   "cell_type": "code",
   "execution_count": 86,
   "id": "ef69ef8f-5fbb-4b16-a7c6-862b7ec70489",
   "metadata": {},
   "outputs": [
    {
     "name": "stdout",
     "output_type": "stream",
     "text": [
      "torch.Size([100, 10])\n",
      "tensor([[-0.3635, -0.0625,  0.2335, -0.1041,  0.0961,  0.0578,  0.1431, -0.1419,\n",
      "         -0.1141, -0.2616],\n",
      "        [ 0.0565, -0.2274,  0.1407, -0.1130, -0.0870, -0.0154,  0.2014, -0.1338,\n",
      "         -0.1398, -0.1425]])\n"
     ]
    }
   ],
   "source": [
    "for images, labels in train_loader:\n",
    "    outputs = model.forward(images)\n",
    "    break\n",
    "print(outputs.shape)\n",
    "print(outputs[:2].data)"
   ]
  },
  {
   "cell_type": "code",
   "execution_count": 87,
   "id": "8f0a1630-07bc-4ea4-af1a-8fff555087f2",
   "metadata": {},
   "outputs": [],
   "source": [
    "import torch.nn.functional as F"
   ]
  },
  {
   "cell_type": "code",
   "execution_count": 88,
   "id": "22b0a20d-e1bd-40b3-a883-c8284554e7a6",
   "metadata": {},
   "outputs": [
    {
     "name": "stdout",
     "output_type": "stream",
     "text": [
      "0.9999998807907104\n"
     ]
    }
   ],
   "source": [
    "probs = F.softmax(outputs, dim = 1)\n",
    "print(torch.sum(probs[2]).item())"
   ]
  },
  {
   "cell_type": "code",
   "execution_count": 89,
   "id": "9905c539-d73c-40c8-868a-f76c1173ee13",
   "metadata": {},
   "outputs": [
    {
     "name": "stdout",
     "output_type": "stream",
     "text": [
      "tensor([2, 6, 0, 4, 0, 2, 7, 0, 7, 6, 2, 6, 0, 4, 2, 6, 1, 4, 6, 2, 2, 3, 2, 1,\n",
      "        6, 0, 6, 6, 5, 3, 2, 6, 6, 2, 0, 2, 6, 7, 7, 7, 2, 3, 0, 4, 2, 2, 2, 6,\n",
      "        2, 2, 2, 4, 0, 2, 6, 0, 2, 3, 2, 4, 2, 0, 2, 3, 2, 2, 2, 5, 5, 0, 2, 2,\n",
      "        4, 0, 6, 1, 6, 2, 7, 4, 7, 7, 7, 2, 6, 2, 2, 6, 3, 2, 0, 6, 2, 2, 6, 6,\n",
      "        2, 4, 6, 4])\n",
      "tensor([0.1310, 0.1269, 0.1427, 0.1190, 0.1434, 0.1418, 0.1408, 0.1208, 0.1242,\n",
      "        0.1356, 0.1374, 0.1259, 0.1202, 0.1347, 0.1157, 0.1406, 0.1168, 0.1322,\n",
      "        0.1200, 0.1251, 0.1405, 0.1252, 0.1318, 0.1221, 0.1343, 0.1193, 0.1369,\n",
      "        0.1230, 0.1287, 0.1356, 0.1318, 0.1340, 0.1181, 0.1356, 0.1444, 0.1143,\n",
      "        0.1285, 0.1392, 0.1259, 0.1550, 0.1304, 0.1745, 0.1312, 0.1117, 0.1202,\n",
      "        0.1206, 0.1368, 0.1408, 0.1401, 0.1334, 0.1404, 0.1224, 0.1641, 0.1321,\n",
      "        0.1255, 0.1246, 0.1202, 0.1303, 0.1528, 0.1283, 0.1409, 0.1281, 0.1452,\n",
      "        0.1404, 0.1251, 0.1451, 0.1171, 0.1119, 0.1293, 0.1504, 0.1393, 0.1495,\n",
      "        0.1287, 0.1282, 0.1259, 0.1345, 0.1223, 0.1426, 0.1408, 0.1238, 0.1276,\n",
      "        0.1506, 0.1286, 0.1381, 0.1250, 0.1582, 0.1371, 0.1328, 0.1267, 0.1153,\n",
      "        0.1472, 0.1209, 0.1271, 0.1419, 0.1327, 0.1235, 0.1411, 0.1265, 0.1433,\n",
      "        0.1173], grad_fn=<MaxBackward0>)\n"
     ]
    }
   ],
   "source": [
    "max_probs, preds= torch.max(probs, dim = 1)\n",
    "print(preds)\n",
    "print(max_probs)"
   ]
  },
  {
   "cell_type": "code",
   "execution_count": 91,
   "id": "12bf17fb-f488-41e1-aac7-23c54fc3beaa",
   "metadata": {},
   "outputs": [
    {
     "data": {
      "text/plain": [
       "0.1"
      ]
     },
     "execution_count": 91,
     "metadata": {},
     "output_type": "execute_result"
    }
   ],
   "source": [
    "torch.sum(labels == preds).item() /len(labels)"
   ]
  },
  {
   "cell_type": "code",
   "execution_count": 92,
   "id": "236b8bd1-58ff-432e-880b-2d80d0524765",
   "metadata": {},
   "outputs": [],
   "source": [
    "def accuracy(l1, l2):\n",
    "    return torch.sum(l1==l2).item()/len(labels)"
   ]
  },
  {
   "cell_type": "code",
   "execution_count": 93,
   "id": "1b51dd21-aa05-4e13-862b-d298c16eb4fb",
   "metadata": {},
   "outputs": [
    {
     "data": {
      "text/plain": [
       "0.1"
      ]
     },
     "execution_count": 93,
     "metadata": {},
     "output_type": "execute_result"
    }
   ],
   "source": [
    "accuracy(labels, preds)"
   ]
  },
  {
   "cell_type": "code",
   "execution_count": 96,
   "id": "bda6c13f-c47a-4c7b-b1c4-263781df1ec1",
   "metadata": {},
   "outputs": [],
   "source": [
    "learning_rate = 0.001\n",
    "optimizer = torch.optim.SGD(model.parameters(), lr = learning_rate)"
   ]
  },
  {
   "cell_type": "code",
   "execution_count": 121,
   "id": "2a802275-361d-4ce8-8778-c787bfe8188e",
   "metadata": {},
   "outputs": [],
   "source": [
    "def loss_batch(model, loss_func, xb, yb, opt = None, metric = None):\n",
    "    preds = model(xb)\n",
    "    loss = loss_fn(preds, yb)\n",
    "    if opt:\n",
    "        loss.backward()\n",
    "        opt.step()\n",
    "        opt.zero_grad()\n",
    "    metric_result = None\n",
    "    if metric:\n",
    "        metric_result = metric(preds, yb)\n",
    "    return loss.item(), len(xb), metric_result"
   ]
  },
  {
   "cell_type": "code",
   "execution_count": 122,
   "id": "bacd7e81-ef8b-4ca8-96d0-26c3f128caab",
   "metadata": {},
   "outputs": [],
   "source": [
    "def evaluate(model, loss_func,valid_dl, metric = None):\n",
    "    with torch.no_grad():\n",
    "        results = [loss_batch(model, loss_func, xb, yb, metric = metric) for xb, yb in valid_dl]\n",
    "        losses, nums, metrics = zip(*results)\n",
    "        total = np.sum(nums)\n",
    "        avg_loss  = np.sum(np.multiply(losses,nums))/total\n",
    "        avg_metric = None\n",
    "        if metric:\n",
    "            avg_metric= np.sum(np.multiply(metrics, nums))/total\n",
    "    return avg_loss, total, avg_metric\n",
    "                              "
   ]
  },
  {
   "cell_type": "code",
   "execution_count": 123,
   "id": "98d05be8-e8a8-4c12-a629-c1ec32116bb6",
   "metadata": {},
   "outputs": [],
   "source": [
    "def accuracy(outputs, labels):\n",
    "    _, preds= torch.max(outputs, dim = 1)\n",
    "    return torch.sum(preds ==labels).item() / len(preds)"
   ]
  },
  {
   "cell_type": "code",
   "execution_count": 106,
   "id": "f420472c-c18c-4b43-992a-4b2c015f5932",
   "metadata": {},
   "outputs": [
    {
     "name": "stdout",
     "output_type": "stream",
     "text": [
      "Loss: 2.2930, Accuracy: 0.1128\n"
     ]
    }
   ],
   "source": [
    "val_loss, total, val_acc  = evaluate(model, loss_fn, val_loader, metric = accuracy)\n",
    "print('Loss: {:.4f}, Accuracy: {:.4f}'.format(val_loss,  val_acc))"
   ]
  },
  {
   "cell_type": "code",
   "execution_count": 124,
   "id": "c158cb8e-964a-4f53-9c5f-945c66d33425",
   "metadata": {},
   "outputs": [],
   "source": [
    " def fit(epochs, model, loss_func, opt, train_dl, valid_dl, metric = None):\n",
    "     for epoch in range(epochs):\n",
    "         for xb, yb in train_dl:\n",
    "             loss,_,_ = loss_batch(model, loss_func, xb, yb, opt)\n",
    "         result = evaluate(model, loss_func, valid_dl, metric)\n",
    "         val_loss, total, val_metric = result\n",
    "         if not metric:\n",
    "             print('Epoch[{}/{}], Loss: {:.4f}'.format(epoch+1, epochs, val_loss))\n",
    "         else:\n",
    "             print('Epoch[{}/{}], Loss: {:.4f}, {}: {:.4f}'.format(epoch+1, epochs, val_loss, metric.__name__,val_metric))"
   ]
  },
  {
   "cell_type": "code",
   "execution_count": 125,
   "id": "345e510f-b55a-4cc7-a780-110908e1eef4",
   "metadata": {},
   "outputs": [],
   "source": [
    "model = MnistModel()"
   ]
  },
  {
   "cell_type": "code",
   "execution_count": 126,
   "id": "91edb3c1-6ba9-409e-b272-ac6e63755a05",
   "metadata": {},
   "outputs": [],
   "source": [
    "optimizer = torch.optim.SGD(model.parameters(), lr= learning_rate)"
   ]
  },
  {
   "cell_type": "code",
   "execution_count": 127,
   "id": "f0067c20-ecae-44cc-97b6-c929b5be92cc",
   "metadata": {},
   "outputs": [
    {
     "name": "stdout",
     "output_type": "stream",
     "text": [
      "Epoch[1/5], Loss: 1.8915, accuracy: 0.6525\n",
      "Epoch[2/5], Loss: 1.5888, accuracy: 0.7442\n",
      "Epoch[3/5], Loss: 1.3758, accuracy: 0.7764\n",
      "Epoch[4/5], Loss: 1.2227, accuracy: 0.7967\n",
      "Epoch[5/5], Loss: 1.1091, accuracy: 0.8097\n"
     ]
    }
   ],
   "source": [
    "fit(5, model, F.cross_entropy, optimizer, train_loader, val_loader, metric = accuracy)"
   ]
  },
  {
   "cell_type": "code",
   "execution_count": 131,
   "id": "6a7cf4d3-3590-42d6-940c-a3c24be6fcc0",
   "metadata": {},
   "outputs": [
    {
     "name": "stderr",
     "output_type": "stream",
     "text": [
      "100%|█████████████████████████████████████████████████████████████████████████████| 9.91M/9.91M [00:00<00:00, 15.2MB/s]\n",
      "100%|██████████████████████████████████████████████████████████████████████████████| 28.9k/28.9k [00:00<00:00, 527kB/s]\n",
      "100%|█████████████████████████████████████████████████████████████████████████████| 1.65M/1.65M [00:00<00:00, 4.50MB/s]\n",
      "100%|█████████████████████████████████████████████████████████████████████████████| 4.54k/4.54k [00:00<00:00, 6.48MB/s]\n"
     ]
    }
   ],
   "source": [
    "test_dataset = MNIST(root = 'TESTMNIST_data/', train = False, download = True, transform = transforms.ToTensor())"
   ]
  },
  {
   "cell_type": "code",
   "execution_count": 138,
   "id": "74d5c185-ac8e-47c1-9eb2-2d676b399128",
   "metadata": {},
   "outputs": [
    {
     "data": {
      "text/plain": [
       "<matplotlib.image.AxesImage at 0x190c4c26990>"
      ]
     },
     "execution_count": 138,
     "metadata": {},
     "output_type": "execute_result"
    },
    {
     "data": {
      "image/png": "[encoded data removed]",
      "text/plain": [
       "<Figure size 640x480 with 1 Axes>"
      ]
     },
     "metadata": {},
     "output_type": "display_data"
    }
   ],
   "source": [
    "img, label = test_dataset[0]\n",
    "plt.imshow(img[0], cmap='gray')\n"
   ]
  },
  {
   "cell_type": "code",
   "execution_count": 140,
   "id": "ea58dfe7-ed70-4a26-a013-9fbb22732bc7",
   "metadata": {},
   "outputs": [
    {
     "data": {
      "text/plain": [
       "torch.Size([1, 1, 28, 28])"
      ]
     },
     "execution_count": 140,
     "metadata": {},
     "output_type": "execute_result"
    }
   ],
   "source": [
    "img.unsqueeze(0).shape"
   ]
  },
  {
   "cell_type": "code",
   "execution_count": 142,
   "id": "115308ba-8852-4bb2-8b1b-90b15a35d7c3",
   "metadata": {},
   "outputs": [],
   "source": [
    "def predict_image(img, model):\n",
    "    xb = img.unsqueeze(0)\n",
    "    yb = model(xb)\n",
    "    porbs, preds = torch.max(yb, dim = 1)\n",
    "    return preds[0].item()"
   ]
  },
  {
   "cell_type": "code",
   "execution_count": 146,
   "id": "04dd277f-7981-426b-820c-c5f456af9205",
   "metadata": {},
   "outputs": [
    {
     "name": "stdout",
     "output_type": "stream",
     "text": [
      "label 7 predicted 7\n"
     ]
    },
    {
     "data": {
      "image/png": "[encoded data removed]",
      "text/plain": [
       "<Figure size 640x480 with 1 Axes>"
      ]
     },
     "metadata": {},
     "output_type": "display_data"
    }
   ],
   "source": [
    "img, label = test_dataset[0]\n",
    "plt.imshow(img[0], cmap  = 'gray')\n",
    "print('label', label, 'predicted', predict_image(img, model))\n"
   ]
  },
  {
   "cell_type": "code",
   "execution_count": 147,
   "id": "10df3292-6714-4318-ba68-bff2eb25e2b9",
   "metadata": {},
   "outputs": [
    {
     "name": "stdout",
     "output_type": "stream",
     "text": [
      "label 0 predicted 0\n"
     ]
    },
    {
     "data": {
      "image/png": "[encoded data removed]",
      "text/plain": [
       "<Figure size 640x480 with 1 Axes>"
      ]
     },
     "metadata": {},
     "output_type": "display_data"
    }
   ],
   "source": [
    "img, label = test_dataset[10]\n",
    "plt.imshow(img[0], cmap  = 'gray')\n",
    "print('label', label, 'predicted', predict_image(img, model))"
   ]
  },
  {
   "cell_type": "code",
   "execution_count": 148,
   "id": "b97ab25e-a576-489d-8d8b-5814bbdb91a7",
   "metadata": {},
   "outputs": [
    {
     "name": "stdout",
     "output_type": "stream",
     "text": [
      "label 6 predicted 6\n"
     ]
    },
    {
     "data": {
      "image/png": "[encoded data removed]",
      "text/plain": [
       "<Figure size 640x480 with 1 Axes>"
      ]
     },
     "metadata": {},
     "output_type": "display_data"
    }
   ],
   "source": [
    "img, label = test_dataset[140]\n",
    "plt.imshow(img[0], cmap  = 'gray')\n",
    "print('label', label, 'predicted', predict_image(img, model))"
   ]
  },
  {
   "cell_type": "code",
   "execution_count": 149,
   "id": "2484ceca-b0bf-4396-801f-d853369c7ebe",
   "metadata": {},
   "outputs": [
    {
     "name": "stdout",
     "output_type": "stream",
     "text": [
      "label 2 predicted 2\n"
     ]
    },
    {
     "data": {
      "image/png": "[encoded data removed]",
      "text/plain": [
       "<Figure size 640x480 with 1 Axes>"
      ]
     },
     "metadata": {},
     "output_type": "display_data"
    }
   ],
   "source": [
    "img, label = test_dataset[1]\n",
    "plt.imshow(img[0], cmap  = 'gray')\n",
    "print('label', label, 'predicted', predict_image(img, model))"
   ]
  },
  {
   "cell_type": "code",
   "execution_count": 150,
   "id": "ecf43a8b-ffc0-489b-8608-88cb5d24aa32",
   "metadata": {},
   "outputs": [
    {
     "name": "stdout",
     "output_type": "stream",
     "text": [
      "label 1 predicted 1\n"
     ]
    },
    {
     "data": {
      "image/png": "[encoded data removed]",
      "text/plain": [
       "<Figure size 640x480 with 1 Axes>"
      ]
     },
     "metadata": {},
     "output_type": "display_data"
    }
   ],
   "source": [
    "img, label = test_dataset[14]\n",
    "plt.imshow(img[0], cmap  = 'gray')\n",
    "print('label', label, 'predicted', predict_image(img, model))"
   ]
  },
  {
   "cell_type": "code",
   "execution_count": 151,
   "id": "83030014-1d54-4ebd-b3ad-2e2caf617f35",
   "metadata": {},
   "outputs": [],
   "source": [
    "torch.save(model.state_dict(), 'mnist-logistic.pth')"
   ]
  },
  {
   "cell_type": "code",
   "execution_count": 152,
   "id": "7ffadcb8-f96c-4ce2-96ec-b9ba6ef5da3d",
   "metadata": {},
   "outputs": [
    {
     "data": {
      "text/plain": [
       "OrderedDict([('linear.weight',\n",
       "              tensor([[-0.0264,  0.0333, -0.0189,  ...,  0.0105, -0.0258, -0.0291],\n",
       "                      [-0.0094,  0.0122,  0.0315,  ..., -0.0069,  0.0170,  0.0029],\n",
       "                      [-0.0192,  0.0201, -0.0316,  ..., -0.0127,  0.0162, -0.0156],\n",
       "                      ...,\n",
       "                      [-0.0161,  0.0128,  0.0195,  ...,  0.0266, -0.0342, -0.0216],\n",
       "                      [-0.0308,  0.0211,  0.0288,  ...,  0.0211,  0.0040, -0.0180],\n",
       "                      [ 0.0073, -0.0132,  0.0055,  ...,  0.0038,  0.0240,  0.0173]])),\n",
       "             ('linear.bias',\n",
       "              tensor([-0.0596,  0.0423, -0.0115,  0.0086,  0.0108,  0.0272,  0.0183,  0.0509,\n",
       "                      -0.0292,  0.0271]))])"
      ]
     },
     "execution_count": 152,
     "metadata": {},
     "output_type": "execute_result"
    }
   ],
   "source": [
    "model.state_dict()"
   ]
  },
  {
   "cell_type": "code",
   "execution_count": 156,
   "id": "cddb69b9-a391-40da-bf43-6a6b3475fbf6",
   "metadata": {},
   "outputs": [
    {
     "data": {
      "text/plain": [
       "OrderedDict([('linear.weight',\n",
       "              tensor([[-0.0264,  0.0333, -0.0189,  ...,  0.0105, -0.0258, -0.0291],\n",
       "                      [-0.0094,  0.0122,  0.0315,  ..., -0.0069,  0.0170,  0.0029],\n",
       "                      [-0.0192,  0.0201, -0.0316,  ..., -0.0127,  0.0162, -0.0156],\n",
       "                      ...,\n",
       "                      [-0.0161,  0.0128,  0.0195,  ...,  0.0266, -0.0342, -0.0216],\n",
       "                      [-0.0308,  0.0211,  0.0288,  ...,  0.0211,  0.0040, -0.0180],\n",
       "                      [ 0.0073, -0.0132,  0.0055,  ...,  0.0038,  0.0240,  0.0173]])),\n",
       "             ('linear.bias',\n",
       "              tensor([-0.0596,  0.0423, -0.0115,  0.0086,  0.0108,  0.0272,  0.0183,  0.0509,\n",
       "                      -0.0292,  0.0271]))])"
      ]
     },
     "execution_count": 156,
     "metadata": {},
     "output_type": "execute_result"
    }
   ],
   "source": [
    "model12 = MnistModel()\n",
    "model12.load_state_dict(torch.load('mnist-logistic.pth'))\n",
    "model12.state_dict()"
   ]
  },
  {
   "cell_type": "code",
   "execution_count": 157,
   "id": "d14cb980-12f3-42ff-a2cf-429e736ba8d2",
   "metadata": {},
   "outputs": [
    {
     "name": "stdout",
     "output_type": "stream",
     "text": [
      "Loss: 1.1091, Accuracy: 0.8097\n"
     ]
    }
   ],
   "source": [
    "val_loss, total, val_acc  = evaluate(model12, loss_fn, val_loader, metric = accuracy)\n",
    "print('Loss: {:.4f}, Accuracy: {:.4f}'.format(val_loss,  val_acc))"
   ]
  },
  {
   "cell_type": "code",
   "execution_count": null,
   "id": "70a4076c-039a-40d0-9e9f-2ccbd6f59462",
   "metadata": {},
   "outputs": [],
   "source": []
  }
 ],
 "metadata": {
  "kernelspec": {
   "display_name": "Python 3 (ipykernel)",
   "language": "python",
   "name": "python3"
  },
  "language_info": {
   "codemirror_mode": {
    "name": "ipython",
    "version": 3
   },
   "file_extension": ".py",
   "mimetype": "text/x-python",
   "name": "python",
   "nbconvert_exporter": "python",
   "pygments_lexer": "ipython3",
   "version": "3.11.7"
  }
 },
 "nbformat": 4,
 "nbformat_minor": 5
}
