{
 "cells": [
  {
   "cell_type": "code",
   "execution_count": 2,
   "id": "b746ce41-988d-41c0-bdcb-5bb804986b88",
   "metadata": {},
   "outputs": [],
   "source": [
    "import torch"
   ]
  },
  {
   "cell_type": "code",
   "execution_count": 3,
   "id": "765a14d8-69c1-4a0a-9c87-f9deaee480a9",
   "metadata": {},
   "outputs": [],
   "source": [
    "t1 = torch.tensor(4.)"
   ]
  },
  {
   "cell_type": "code",
   "execution_count": 4,
   "id": "77a46389-b98c-49fc-b18f-46679a0b7015",
   "metadata": {},
   "outputs": [
    {
     "data": {
      "text/plain": [
       "tensor(4.)"
      ]
     },
     "execution_count": 4,
     "metadata": {},
     "output_type": "execute_result"
    }
   ],
   "source": [
    "t1"
   ]
  },
  {
   "cell_type": "code",
   "execution_count": 5,
   "id": "1ba777c7-dcc9-4e50-b3c1-b7aaccedcb35",
   "metadata": {},
   "outputs": [
    {
     "data": {
      "text/plain": [
       "torch.float32"
      ]
     },
     "execution_count": 5,
     "metadata": {},
     "output_type": "execute_result"
    }
   ],
   "source": [
    "t1.dtype"
   ]
  },
  {
   "cell_type": "code",
   "execution_count": 8,
   "id": "c7582e33-39a2-497c-b1bd-f6237d9b18fa",
   "metadata": {},
   "outputs": [
    {
     "data": {
      "text/plain": [
       "tensor([[2, 2],\n",
       "        [2, 2]])"
      ]
     },
     "execution_count": 8,
     "metadata": {},
     "output_type": "execute_result"
    }
   ],
   "source": [
    "t2= torch.tensor([[2,2],[2,2]])\n",
    "t2"
   ]
  },
  {
   "cell_type": "code",
   "execution_count": 9,
   "id": "fa702cc7-6058-44e0-a225-494a5270c9e5",
   "metadata": {},
   "outputs": [
    {
     "data": {
      "text/plain": [
       "torch.Size([2, 2])"
      ]
     },
     "execution_count": 9,
     "metadata": {},
     "output_type": "execute_result"
    }
   ],
   "source": [
    "t2.shape"
   ]
  },
  {
   "cell_type": "code",
   "execution_count": 4,
   "id": "451f092b-d3b7-4e42-8239-e6dc2142a3b5",
   "metadata": {},
   "outputs": [],
   "source": [
    "x = torch.tensor(3.)\n",
    "w = torch.tensor([[2.,3.],[2.,3.]], requires_grad= True)\n",
    "b = torch.tensor(5., requires_grad= True)"
   ]
  },
  {
   "cell_type": "code",
   "execution_count": 12,
   "id": "e07f04b3-3091-47be-b3d1-ba84c47fc9d4",
   "metadata": {},
   "outputs": [
    {
     "name": "stderr",
     "output_type": "stream",
     "text": [
      "C:\\Users\\aryap\\AppData\\Local\\Temp\\ipykernel_18760\\473700088.py:1: UserWarning: To copy construct from a tensor, it is recommended to use sourceTensor.detach().clone() or sourceTensor.detach().clone().requires_grad_(True), rather than torch.tensor(sourceTensor).\n",
      "  y = torch.tensor(x*w*b)\n"
     ]
    },
    {
     "data": {
      "text/plain": [
       "tensor([[30., 45.],\n",
       "        [30., 45.]])"
      ]
     },
     "execution_count": 12,
     "metadata": {},
     "output_type": "execute_result"
    }
   ],
   "source": [
    "y = torch.tensor(x*w*b)\n",
    "y"
   ]
  },
  {
   "cell_type": "code",
   "execution_count": 10,
   "id": "46d83ebf-8c87-4299-96ee-9f545bae6f09",
   "metadata": {},
   "outputs": [],
   "source": [
    "y.sum().backward()"
   ]
  },
  {
   "cell_type": "code",
   "execution_count": 11,
   "id": "ec5813aa-a17e-4bbb-9706-aa8b0296c2d1",
   "metadata": {},
   "outputs": [
    {
     "name": "stdout",
     "output_type": "stream",
     "text": [
      "None\n",
      "tensor([[3., 3.],\n",
      "        [3., 3.]])\n",
      "tensor(4.)\n"
     ]
    }
   ],
   "source": [
    "print(x.grad)\n",
    "print(w.grad)\n",
    "print(b.grad)"
   ]
  },
  {
   "cell_type": "code",
   "execution_count": 21,
   "id": "7ba79377-e559-46e4-b24e-9983b4eb9d63",
   "metadata": {},
   "outputs": [],
   "source": [
    "n.backward()"
   ]
  },
  {
   "cell_type": "code",
   "execution_count": 22,
   "id": "6aad502c-a2c3-4f3d-b9c8-984115a30228",
   "metadata": {},
   "outputs": [
    {
     "name": "stdout",
     "output_type": "stream",
     "text": [
      "None\n",
      "tensor(18.)\n",
      "tensor(3.)\n"
     ]
    }
   ],
   "source": [
    "print(x.grad)\n",
    "print(w.grad)\n",
    "print(b.grad)"
   ]
  },
  {
   "cell_type": "code",
   "execution_count": null,
   "id": "36e0092c-0fae-43dc-9187-1039f4ee6fe4",
   "metadata": {},
   "outputs": [],
   "source": []
  }
 ],
 "metadata": {
  "kernelspec": {
   "display_name": "Python 3 (ipykernel)",
   "language": "python",
   "name": "python3"
  },
  "language_info": {
   "codemirror_mode": {
    "name": "ipython",
    "version": 3
   },
   "file_extension": ".py",
   "mimetype": "text/x-python",
   "name": "python",
   "nbconvert_exporter": "python",
   "pygments_lexer": "ipython3",
   "version": "3.11.7"
  }
 },
 "nbformat": 4,
 "nbformat_minor": 5
}
