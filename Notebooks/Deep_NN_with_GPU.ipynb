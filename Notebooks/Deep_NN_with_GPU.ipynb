{
 "cells": [
  {
   "cell_type": "code",
   "execution_count": 1,
   "id": "bd733cdd-4980-4d41-b4e3-4eb3b9257242",
   "metadata": {
    "id": "bd733cdd-4980-4d41-b4e3-4eb3b9257242"
   },
   "outputs": [],
   "source": [
    "import torch\n",
    "import numpy as np\n",
    "import torchvision\n",
    "from torchvision.datasets import MNIST\n",
    "from torchvision.transforms import ToTensor\n",
    "from torch.utils.data.sampler import SubsetRandomSampler\n",
    "from torch.utils.data.dataloader import DataLoader"
   ]
  },
  {
   "cell_type": "code",
   "execution_count": 2,
   "id": "884e57d2-2fe5-4e16-afb8-4710791b0c47",
   "metadata": {
    "colab": {
     "base_uri": "https://localhost:8080/"
    },
    "id": "884e57d2-2fe5-4e16-afb8-4710791b0c47",
    "outputId": "b99095bf-f0ba-4556-c8fc-8b1b4e298f01"
   },
   "outputs": [],
   "source": [
    "dataset = MNIST(root = 'MNIST_data/', download = False, transform = ToTensor())"
   ]
  },
  {
   "cell_type": "code",
   "execution_count": 3,
   "id": "1eee30b3-4842-4910-aa89-1e0c280c5516",
   "metadata": {
    "colab": {
     "base_uri": "https://localhost:8080/",
     "height": 447
    },
    "id": "1eee30b3-4842-4910-aa89-1e0c280c5516",
    "outputId": "aafee383-fd3e-4900-870f-a40ab17eba45"
   },
   "outputs": [
    {
     "data": {
      "text/plain": [
       "<matplotlib.image.AxesImage at 0x148c66a1f50>"
      ]
     },
     "execution_count": 3,
     "metadata": {},
     "output_type": "execute_result"
    },
    {
     "data": {
      "image/png": "[encoded data removed]",
      "text/plain": [
       "<Figure size 640x480 with 1 Axes>"
      ]
     },
     "metadata": {},
     "output_type": "display_data"
    }
   ],
   "source": [
    "import matplotlib.pyplot as plt\n",
    "img, label = dataset[0]\n",
    "plt.imshow(img[0], cmap = 'gray')"
   ]
  },
  {
   "cell_type": "code",
   "execution_count": 4,
   "id": "fb31bcc7-2a41-44a0-bfcb-795198aa62cb",
   "metadata": {
    "id": "fb31bcc7-2a41-44a0-bfcb-795198aa62cb"
   },
   "outputs": [],
   "source": [
    "def split_indices(n, val_pct):\n",
    "    nval = int(n*val_pct)\n",
    "    indxs = np.random.permutation(n)\n",
    "    return indxs[nval:], indxs[:nval]"
   ]
  },
  {
   "cell_type": "code",
   "execution_count": 5,
   "id": "c1c57c84-c1a8-4606-afab-8c84b996e2f4",
   "metadata": {
    "id": "c1c57c84-c1a8-4606-afab-8c84b996e2f4"
   },
   "outputs": [],
   "source": [
    "train_indices, val_indices = split_indices(len(dataset), 0.2)"
   ]
  },
  {
   "cell_type": "code",
   "execution_count": 6,
   "id": "5fc6abfd-5847-43ac-a490-82f8cb5c1538",
   "metadata": {
    "colab": {
     "base_uri": "https://localhost:8080/"
    },
    "id": "5fc6abfd-5847-43ac-a490-82f8cb5c1538",
    "outputId": "409a5670-5a2d-4c30-a279-94b35dec21f6"
   },
   "outputs": [
    {
     "name": "stdout",
     "output_type": "stream",
     "text": [
      "48000 12000\n"
     ]
    }
   ],
   "source": [
    "print(len(train_indices), len(val_indices))"
   ]
  },
  {
   "cell_type": "code",
   "execution_count": 7,
   "id": "d6795d7e-d5fe-435b-9376-32feac6bb6ea",
   "metadata": {
    "id": "d6795d7e-d5fe-435b-9376-32feac6bb6ea"
   },
   "outputs": [],
   "source": [
    "batch_size = 100\n",
    "\n",
    "train_sampler = SubsetRandomSampler(train_indices)\n",
    "train_loader = DataLoader(dataset, batch_size,sampler= train_sampler)\n",
    "\n",
    "val_sampler = SubsetRandomSampler(val_indices)\n",
    "val_loader = DataLoader(dataset, batch_size, sampler = val_sampler)\n",
    "\n"
   ]
  },
  {
   "cell_type": "code",
   "execution_count": 8,
   "id": "746c7d57-cb78-476b-876a-2db0a348bcda",
   "metadata": {
    "id": "746c7d57-cb78-476b-876a-2db0a348bcda"
   },
   "outputs": [],
   "source": [
    "import torch.nn.functional as F\n",
    "import torch.nn as nn"
   ]
  },
  {
   "cell_type": "code",
   "execution_count": 9,
   "id": "865b7e54-8bfb-4ff4-a878-52b86e4b2839",
   "metadata": {
    "id": "865b7e54-8bfb-4ff4-a878-52b86e4b2839"
   },
   "outputs": [],
   "source": [
    "class MnistModel(nn.Module):\n",
    "    def __init__(self, in_size, hidden_size,out_size):\n",
    "        super().__init__()\n",
    "        self.linear1 = nn.Linear(in_size, hidden_size)\n",
    "        self.linear2 = nn.Linear(hidden_size, out_size)\n",
    "    def forward(self, xb):\n",
    "        xb = xb.view(xb.size(0),-1)\n",
    "        out = self.linear1(xb)\n",
    "        out = F.relu(out)\n",
    "        out = self.linear2(out)\n",
    "        return out"
   ]
  },
  {
   "cell_type": "code",
   "execution_count": 10,
   "id": "8e1fa6c3-9ce8-4210-9754-a591037fd1fa",
   "metadata": {
    "id": "8e1fa6c3-9ce8-4210-9754-a591037fd1fa"
   },
   "outputs": [],
   "source": [
    "input_size = 784\n",
    "num_classes = 10\n",
    "hidden_size = 32\n",
    "\n",
    "model = MnistModel(input_size, hidden_size, num_classes)\n"
   ]
  },
  {
   "cell_type": "code",
   "execution_count": 11,
   "id": "13656737-f402-4e03-bf26-77ec8db8d9c7",
   "metadata": {
    "colab": {
     "base_uri": "https://localhost:8080/"
    },
    "id": "13656737-f402-4e03-bf26-77ec8db8d9c7",
    "outputId": "3d3775a0-7fb2-4133-ea11-3f7f52179ec3"
   },
   "outputs": [
    {
     "name": "stdout",
     "output_type": "stream",
     "text": [
      "torch.Size([32, 784])\n",
      "torch.Size([32])\n",
      "torch.Size([10, 32])\n",
      "torch.Size([10])\n"
     ]
    }
   ],
   "source": [
    "for t in model.parameters():\n",
    "    print(t.shape)"
   ]
  },
  {
   "cell_type": "code",
   "execution_count": 12,
   "id": "105296d4-12d5-44f5-b209-0cf10c9eda03",
   "metadata": {
    "colab": {
     "base_uri": "https://localhost:8080/"
    },
    "id": "105296d4-12d5-44f5-b209-0cf10c9eda03",
    "outputId": "75dbb665-f5a5-46bc-d646-e2c831cef444"
   },
   "outputs": [
    {
     "name": "stdout",
     "output_type": "stream",
     "text": [
      "Loss: 2.3030054569244385\n",
      "outputs.shape torch.Size([100, 10])\n",
      "sample_outputs:\n",
      " tensor([[0.0965, 0.1074, 0.1093, 0.0952, 0.0847, 0.1169, 0.0982, 0.0942, 0.0959,\n",
      "         0.1017],\n",
      "        [0.0996, 0.1075, 0.1111, 0.0988, 0.0890, 0.1042, 0.0988, 0.0891, 0.1086,\n",
      "         0.0933]])\n"
     ]
    },
    {
     "name": "stderr",
     "output_type": "stream",
     "text": [
      "C:\\Users\\aryap\\AppData\\Local\\Temp\\ipykernel_37440\\4167422373.py:7: UserWarning: Implicit dimension choice for softmax has been deprecated. Change the call to include dim=X as an argument.\n",
      "  print('sample_outputs:\\n', F.softmax(outputs)[:2].data)\n"
     ]
    }
   ],
   "source": [
    "for images, labels in train_loader:\n",
    "    outputs = model(images)\n",
    "    loss = F.cross_entropy(outputs, labels)\n",
    "    print('Loss:', loss.item())\n",
    "    break\n",
    "print('outputs.shape', outputs.shape)\n",
    "print('sample_outputs:\\n', F.softmax(outputs)[:2].data)"
   ]
  },
  {
   "cell_type": "code",
   "execution_count": 13,
   "id": "6824f866-c2a3-447d-bfcf-292e6955ef63",
   "metadata": {
    "colab": {
     "base_uri": "https://localhost:8080/"
    },
    "id": "6824f866-c2a3-447d-bfcf-292e6955ef63",
    "outputId": "2195cec6-9d19-40c3-eb67-6ae0bfd13f68"
   },
   "outputs": [
    {
     "data": {
      "text/plain": [
       "True"
      ]
     },
     "execution_count": 13,
     "metadata": {},
     "output_type": "execute_result"
    }
   ],
   "source": [
    "torch.cuda.is_available()"
   ]
  },
  {
   "cell_type": "code",
   "execution_count": 14,
   "id": "d250fb94-9df8-41f3-ac3c-97cdd118f151",
   "metadata": {
    "id": "d250fb94-9df8-41f3-ac3c-97cdd118f151"
   },
   "outputs": [],
   "source": [
    "def get_default_device():\n",
    "  if torch.cuda.is_available():\n",
    "    return torch.device('cuda')\n",
    "  else:\n",
    "    return torch.device('cpu')"
   ]
  },
  {
   "cell_type": "code",
   "execution_count": 15,
   "id": "1fWTfu2vQmri",
   "metadata": {
    "colab": {
     "base_uri": "https://localhost:8080/"
    },
    "id": "1fWTfu2vQmri",
    "outputId": "c50490a5-ed84-420a-f901-975c5b42a077"
   },
   "outputs": [
    {
     "data": {
      "text/plain": [
       "device(type='cuda')"
      ]
     },
     "execution_count": 15,
     "metadata": {},
     "output_type": "execute_result"
    }
   ],
   "source": [
    "device = get_default_device()\n",
    "device"
   ]
  },
  {
   "cell_type": "code",
   "execution_count": 16,
   "id": "ryYNZofYQu0t",
   "metadata": {
    "id": "ryYNZofYQu0t"
   },
   "outputs": [],
   "source": [
    "def to_device(data, device):\n",
    "  if isinstance(data, (list, tuple)):\n",
    "    return [to_device(x, device) for x in data]\n",
    "  else:\n",
    "    return data.to(device, non_blocking = True)"
   ]
  },
  {
   "cell_type": "code",
   "execution_count": 17,
   "id": "aGDmxbGpSYnW",
   "metadata": {
    "colab": {
     "base_uri": "https://localhost:8080/"
    },
    "id": "aGDmxbGpSYnW",
    "outputId": "0b8605d0-6f88-46ef-fc37-830670400fb3"
   },
   "outputs": [
    {
     "name": "stdout",
     "output_type": "stream",
     "text": [
      "torch.Size([100, 1, 28, 28])\n",
      "cuda:0\n"
     ]
    }
   ],
   "source": [
    "for images, labels in train_loader:\n",
    "  print(images.shape)\n",
    "  images = to_device(images, device)\n",
    "  print(images.device)\n",
    "  break\n"
   ]
  },
  {
   "cell_type": "code",
   "execution_count": 18,
   "id": "NNNl_tXUSoHx",
   "metadata": {
    "id": "NNNl_tXUSoHx"
   },
   "outputs": [],
   "source": [
    "class DeviceDataLoader():\n",
    "  def __init__(self, dl, device):\n",
    "    self.dl = dl\n",
    "    self.device= device\n",
    "  def __iter__(self):\n",
    "    for b in self.dl:\n",
    "      yield to_device(b, self.device)\n",
    "  def __len__(self):\n",
    "    return len(self.dl)"
   ]
  },
  {
   "cell_type": "code",
   "execution_count": 19,
   "id": "SIzh5Gi8T8uH",
   "metadata": {
    "id": "SIzh5Gi8T8uH"
   },
   "outputs": [],
   "source": [
    "train_dl = DeviceDataLoader(train_loader, device)\n",
    "valid_dl = DeviceDataLoader(val_loader, device )"
   ]
  },
  {
   "cell_type": "code",
   "execution_count": 20,
   "id": "_wRVpA2gY2RJ",
   "metadata": {
    "id": "_wRVpA2gY2RJ"
   },
   "outputs": [],
   "source": [
    "def accuracy(outputs, labels):\n",
    "  _, preds = torch.max(outputs, dim = 1)\n",
    "  return torch.sum(preds == labels).item()/len(preds)"
   ]
  },
  {
   "cell_type": "code",
   "execution_count": 22,
   "id": "uX0traWcVBzc",
   "metadata": {
    "id": "uX0traWcVBzc"
   },
   "outputs": [],
   "source": [
    "def loss_batch(model, loss_func, xb, yb, opt = None, metric = None):\n",
    "  preds = model(xb)\n",
    "  loss = loss_func(preds, yb)\n",
    "\n",
    "  if opt:\n",
    "    loss.backward()\n",
    "    opt.step()\n",
    "    opt.zero_grad()\n",
    "  metric_result=None\n",
    "  if metric:\n",
    "    metric_result = metric(preds, yb)\n",
    "  return loss.item(), len(xb), metric_result"
   ]
  },
  {
   "cell_type": "code",
   "execution_count": 23,
   "id": "5o0C3DWIXeEf",
   "metadata": {
    "id": "5o0C3DWIXeEf"
   },
   "outputs": [],
   "source": [
    "def evaluate(model, loss_func, valid_dl, metric = None):\n",
    "  with torch.no_grad():\n",
    "    results = [loss_batch(model, loss_func, xb, yb, metric=metric) for xb, yb in valid_dl]\n",
    "\n",
    "    losses, nums, metrics = zip(*results)\n",
    "\n",
    "    total = np.sum(nums)\n",
    "\n",
    "    avg_loss = np.sum(np.multiply(losses, nums))/total\n",
    "    avg_metric = None\n",
    "    if metric:\n",
    "      avg_metric = np.sum(np.multiply(metrics, nums))/total\n",
    "    return avg_loss, total, avg_metric"
   ]
  },
  {
   "cell_type": "code",
   "execution_count": 24,
   "id": "tJrWxBamV7-K",
   "metadata": {
    "id": "tJrWxBamV7-K"
   },
   "outputs": [],
   "source": [
    "def fit(epochs, lr, model, loss_fn, train_dl, valid_dl, metric = None, opt_fn = None):\n",
    "  losses, metrics = [], []\n",
    "  if not opt_fn:\n",
    "    opt_fn = torch.optim.SGD\n",
    "  opt = opt_fn(model.parameters(), lr = lr)\n",
    "\n",
    "  for epoch in range(epochs):\n",
    "    for xb, yb in train_dl:\n",
    "      loss,_,_ = loss_batch(model, loss_fn, xb, yb, opt)\n",
    "\n",
    "    result = evaluate(model, loss_fn, valid_dl, metric)\n",
    "    val_loss, total, val_metric = result\n",
    "    losses.append(val_loss)\n",
    "    metrics.append(val_metric)\n",
    "\n",
    "    if not metric:\n",
    "      print('Epoch[{}/{}], Loss: {:.4f}'.format(epoch+1, epochs, val_loss))\n",
    "    else:\n",
    "      print('Epoch[{}/{}], Loss: {:.4f}, {}: {:.4f}'.format(epoch+1, epochs, val_loss, metric.__name__,val_metric))\n",
    "  return losses, metrics\n",
    "\n",
    "\n",
    "\n"
   ]
  },
  {
   "cell_type": "code",
   "execution_count": 25,
   "id": "BvUM_-LYWkSJ",
   "metadata": {
    "id": "BvUM_-LYWkSJ"
   },
   "outputs": [],
   "source": [
    "model = MnistModel(input_size, hidden_size = 32, out_size = num_classes)"
   ]
  },
  {
   "cell_type": "code",
   "execution_count": 26,
   "id": "btiOGM3sZceQ",
   "metadata": {
    "colab": {
     "base_uri": "https://localhost:8080/"
    },
    "id": "btiOGM3sZceQ",
    "outputId": "b4d06fc1-cde0-492f-d65d-fbcbc9031afc"
   },
   "outputs": [
    {
     "data": {
      "text/plain": [
       "MnistModel(\n",
       "  (linear1): Linear(in_features=784, out_features=32, bias=True)\n",
       "  (linear2): Linear(in_features=32, out_features=10, bias=True)\n",
       ")"
      ]
     },
     "execution_count": 26,
     "metadata": {},
     "output_type": "execute_result"
    }
   ],
   "source": [
    "to_device(model, device)"
   ]
  },
  {
   "cell_type": "code",
   "execution_count": 27,
   "id": "sHLA1W4dZgFo",
   "metadata": {
    "colab": {
     "base_uri": "https://localhost:8080/"
    },
    "id": "sHLA1W4dZgFo",
    "outputId": "6e01b791-b847-4c8b-c1a1-cff163c4ead5"
   },
   "outputs": [
    {
     "name": "stdout",
     "output_type": "stream",
     "text": [
      "Loss: 2.3179, Accuracy: 0.0956\n"
     ]
    }
   ],
   "source": [
    "val_loss, total, val_metric = evaluate(model, F.cross_entropy, valid_dl, metric= accuracy)\n",
    "print('Loss: {:.4f}, Accuracy: {:.4f}'.format(val_loss, val_metric))"
   ]
  },
  {
   "cell_type": "code",
   "execution_count": 28,
   "id": "VCAw85ELae7A",
   "metadata": {
    "colab": {
     "base_uri": "https://localhost:8080/"
    },
    "id": "VCAw85ELae7A",
    "outputId": "99ba91ed-1fbf-428c-df5e-c47f59e337e0"
   },
   "outputs": [
    {
     "name": "stdout",
     "output_type": "stream",
     "text": [
      "Epoch[1/5], Loss: 0.2029, accuracy: 0.9396\n",
      "Epoch[2/5], Loss: 0.1621, accuracy: 0.9477\n",
      "Epoch[3/5], Loss: 0.1444, accuracy: 0.9565\n",
      "Epoch[4/5], Loss: 0.1545, accuracy: 0.9530\n",
      "Epoch[5/5], Loss: 0.1283, accuracy: 0.9611\n"
     ]
    }
   ],
   "source": [
    "losses1, metrics1 = fit(5, 0.5, model, F.cross_entropy, train_dl, valid_dl, metric = accuracy)"
   ]
  },
  {
   "cell_type": "code",
   "execution_count": null,
   "id": "ZHGZHOtWbJ5r",
   "metadata": {
    "colab": {
     "base_uri": "https://localhost:8080/"
    },
    "id": "ZHGZHOtWbJ5r",
    "outputId": "d6756813-0863-486e-85c2-288209299519"
   },
   "outputs": [
    {
     "name": "stdout",
     "output_type": "stream",
     "text": [
      "Epoch[1/5], Loss: 0.1236, accuracy: 0.9616\n",
      "Epoch[2/5], Loss: 0.1260, accuracy: 0.9615\n",
      "Epoch[3/5], Loss: 0.1183, accuracy: 0.9646\n",
      "Epoch[4/5], Loss: 0.1177, accuracy: 0.9656\n",
      "Epoch[5/5], Loss: 0.1251, accuracy: 0.9634\n"
     ]
    }
   ],
   "source": [
    "losses1, metrics2 = fit(5, 0.5, model, F.cross_entropy, train_dl, valid_dl, metric = accuracy)"
   ]
  },
  {
   "cell_type": "code",
   "execution_count": 29,
   "id": "oBOj08RacfuO",
   "metadata": {
    "colab": {
     "base_uri": "https://localhost:8080/",
     "height": 472
    },
    "id": "oBOj08RacfuO",
    "outputId": "35957544-0c63-44e6-904b-45d1c8acfaa2"
   },
   "outputs": [
    {
     "data": {
      "image/png": "[encoded data removed]",
      "text/plain": [
       "<Figure size 640x480 with 1 Axes>"
      ]
     },
     "metadata": {},
     "output_type": "display_data"
    }
   ],
   "source": [
    "import matplotlib.pyplot as plt\n",
    "accuracies = [val_metric] + metrics1\n",
    "plt.plot(accuracies, '-x')\n",
    "plt.xlabel('epoch')\n",
    "plt.ylabel('accuracy')\n",
    "plt.title('Accuracy vs. No. of epochs');"
   ]
  },
  {
   "cell_type": "code",
   "execution_count": null,
   "id": "EbhNslLqc1oz",
   "metadata": {
    "id": "EbhNslLqc1oz"
   },
   "outputs": [],
   "source": []
  }
 ],
 "metadata": {
  "accelerator": "GPU",
  "colab": {
   "gpuType": "T4",
   "provenance": [],
   "toc_visible": true
  },
  "kernelspec": {
   "display_name": "Python 3 (ipykernel)",
   "language": "python",
   "name": "python3"
  },
  "language_info": {
   "codemirror_mode": {
    "name": "ipython",
    "version": 3
   },
   "file_extension": ".py",
   "mimetype": "text/x-python",
   "name": "python",
   "nbconvert_exporter": "python",
   "pygments_lexer": "ipython3",
   "version": "3.11.7"
  }
 },
 "nbformat": 4,
 "nbformat_minor": 5
}
