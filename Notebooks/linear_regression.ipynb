{
 "cells": [
  {
   "cell_type": "code",
   "execution_count": 1,
   "id": "cddde3fd-fd40-458e-abea-5fa076184b79",
   "metadata": {},
   "outputs": [],
   "source": [
    "import numpy as np\n",
    "import torch"
   ]
  },
  {
   "cell_type": "code",
   "execution_count": 11,
   "id": "10bc795f-4e26-4a74-aaf5-636b85827ce2",
   "metadata": {},
   "outputs": [],
   "source": [
    "#inputs(temp, rainfall, humidity)\n",
    "inputs = np.array([[73, 67, 43],\n",
    "                   [91, 88, 64],\n",
    "                   [87, 134, 58],\n",
    "                   [102, 43, 37],\n",
    "                   [69, 96, 70]], dtype = 'float32')"
   ]
  },
  {
   "cell_type": "code",
   "execution_count": 12,
   "id": "f24e5c0f-7e89-45cc-8340-8642e9c12ce4",
   "metadata": {},
   "outputs": [],
   "source": [
    "#Targets (apples, oranges)\n",
    "targets = np.array([[56, 70],\n",
    "                    [81, 101],\n",
    "                    [119, 133],\n",
    "                    [22, 37],\n",
    "                    [103, 119]], dtype = 'float32')"
   ]
  },
  {
   "cell_type": "code",
   "execution_count": 13,
   "id": "38eb9559-b6ff-4d8f-8db5-4ab33c03d2fe",
   "metadata": {
    "scrolled": true
   },
   "outputs": [],
   "source": [
    "inputs = torch.from_numpy(inputs)\n",
    "targets = torch.from_numpy(targets)\n"
   ]
  },
  {
   "cell_type": "code",
   "execution_count": 6,
   "id": "986e9f7c-9309-484d-82b9-6e41d8561fb4",
   "metadata": {},
   "outputs": [],
   "source": [
    "w = torch.randn(2, 3, requires_grad = True)\n",
    "b = torch.randn(2, requires_grad = True)"
   ]
  },
  {
   "cell_type": "code",
   "execution_count": 9,
   "id": "18d0a17a-22c1-43c8-9baa-d48af3160140",
   "metadata": {},
   "outputs": [],
   "source": [
    "def model(x):\n",
    "    return x @ w.t() +b"
   ]
  },
  {
   "cell_type": "code",
   "execution_count": 14,
   "id": "21a1ab4d-b48c-48e3-b9b9-545165febe61",
   "metadata": {},
   "outputs": [
    {
     "name": "stdout",
     "output_type": "stream",
     "text": [
      "tensor([[-64.1777,  74.3923],\n",
      "        [-91.0895,  93.4832],\n",
      "        [-90.3850, 113.3851],\n",
      "        [-59.9619,  83.3853],\n",
      "        [-94.4101,  81.6316]], grad_fn=<AddBackward0>)\n"
     ]
    }
   ],
   "source": [
    "preds = model(inputs)\n",
    "print(preds)"
   ]
  },
  {
   "cell_type": "code",
   "execution_count": 15,
   "id": "cdb31f50-479b-47e5-bb16-6175065a516f",
   "metadata": {},
   "outputs": [],
   "source": [
    "def mse(original, preds):\n",
    "    diff_matrix = preds - original\n",
    "    return (diff_matrix **2).mean()"
   ]
  },
  {
   "cell_type": "code",
   "execution_count": 23,
   "id": "24d07056-9623-4098-a695-30eadae65e2a",
   "metadata": {},
   "outputs": [
    {
     "data": {
      "text/plain": [
       "tensor(13759.6582, grad_fn=<MeanBackward0>)"
      ]
     },
     "execution_count": 23,
     "metadata": {},
     "output_type": "execute_result"
    }
   ],
   "source": [
    "loss = mse(targets, preds)"
   ]
  },
  {
   "cell_type": "code",
   "execution_count": 24,
   "id": "fab8462f-f626-4c75-bf56-403d65031d64",
   "metadata": {},
   "outputs": [],
   "source": [
    "loss.backward()"
   ]
  },
  {
   "cell_type": "code",
   "execution_count": 25,
   "id": "37b3a11c-1787-4b0d-900c-6e800d50aca8",
   "metadata": {},
   "outputs": [
    {
     "data": {
      "text/plain": [
       "tensor([[-12926.2051, -14745.8213,  -9035.3994],\n",
       "        [    16.5974,   -917.6799,   -465.8816]])"
      ]
     },
     "execution_count": 25,
     "metadata": {},
     "output_type": "execute_result"
    }
   ],
   "source": [
    "w.grad"
   ]
  },
  {
   "cell_type": "code",
   "execution_count": 26,
   "id": "7bc6de89-d068-40e5-a66b-d632aab30470",
   "metadata": {},
   "outputs": [
    {
     "data": {
      "text/plain": [
       "tensor([-156.2048,   -2.7445])"
      ]
     },
     "execution_count": 26,
     "metadata": {},
     "output_type": "execute_result"
    }
   ],
   "source": [
    "b.grad"
   ]
  },
  {
   "cell_type": "code",
   "execution_count": 30,
   "id": "eb85ecd2-80b0-4188-a39d-a2186d234fa2",
   "metadata": {},
   "outputs": [
    {
     "data": {
      "text/plain": [
       "tensor([[0., 0., 0.],\n",
       "        [0., 0., 0.]])"
      ]
     },
     "execution_count": 30,
     "metadata": {},
     "output_type": "execute_result"
    }
   ],
   "source": [
    "w.grad.zero_()"
   ]
  },
  {
   "cell_type": "code",
   "execution_count": 31,
   "id": "2793a1c7-cb72-4b00-90cd-86506a287520",
   "metadata": {},
   "outputs": [
    {
     "data": {
      "text/plain": [
       "tensor([0., 0.])"
      ]
     },
     "execution_count": 31,
     "metadata": {},
     "output_type": "execute_result"
    }
   ],
   "source": [
    "b.grad.zero_()"
   ]
  },
  {
   "cell_type": "code",
   "execution_count": 32,
   "id": "f406c36e-919b-4b81-8913-3f4adb986ecf",
   "metadata": {},
   "outputs": [],
   "source": [
    "preds = model(inputs)"
   ]
  },
  {
   "cell_type": "code",
   "execution_count": 33,
   "id": "feb38f78-fd82-4f88-a94f-97068480ab85",
   "metadata": {},
   "outputs": [
    {
     "data": {
      "text/plain": [
       "tensor([[-64.1777,  74.3923],\n",
       "        [-91.0895,  93.4832],\n",
       "        [-90.3850, 113.3851],\n",
       "        [-59.9619,  83.3853],\n",
       "        [-94.4101,  81.6316]], grad_fn=<AddBackward0>)"
      ]
     },
     "execution_count": 33,
     "metadata": {},
     "output_type": "execute_result"
    }
   ],
   "source": [
    "preds"
   ]
  },
  {
   "cell_type": "code",
   "execution_count": 34,
   "id": "281318e6-beb7-4025-b0ee-d729b4fcf4dc",
   "metadata": {},
   "outputs": [],
   "source": [
    "loss = mse(targets, preds)\n"
   ]
  },
  {
   "cell_type": "code",
   "execution_count": 35,
   "id": "7acc1e9c-722e-4440-ac95-d1f315fba6dd",
   "metadata": {},
   "outputs": [],
   "source": [
    "loss.backward()"
   ]
  },
  {
   "cell_type": "code",
   "execution_count": 36,
   "id": "9c20f252-4358-47dd-ac43-67a84433bfc2",
   "metadata": {},
   "outputs": [
    {
     "data": {
      "text/plain": [
       "tensor([[-12926.2051, -14745.8213,  -9035.3994],\n",
       "        [    16.5974,   -917.6799,   -465.8816]])"
      ]
     },
     "execution_count": 36,
     "metadata": {},
     "output_type": "execute_result"
    }
   ],
   "source": [
    "w.grad"
   ]
  },
  {
   "cell_type": "code",
   "execution_count": 37,
   "id": "ae5eb6f1-3371-4901-9447-b93aa4c5b537",
   "metadata": {},
   "outputs": [
    {
     "data": {
      "text/plain": [
       "tensor([-156.2048,   -2.7445])"
      ]
     },
     "execution_count": 37,
     "metadata": {},
     "output_type": "execute_result"
    }
   ],
   "source": [
    "b.grad"
   ]
  },
  {
   "cell_type": "code",
   "execution_count": 39,
   "id": "4ff56e4c-55c8-42eb-ae66-5c8758fd3916",
   "metadata": {},
   "outputs": [],
   "source": [
    "with torch.no_grad():\n",
    "    w-=w.grad * 1e-5\n",
    "    b-=b.grad * 1e-5\n",
    "    w.grad.zero_()\n",
    "    b.grad.zero_()\n"
   ]
  },
  {
   "cell_type": "code",
   "execution_count": 41,
   "id": "a3b1549b-31bb-4e1b-9a09-9831b5066d56",
   "metadata": {},
   "outputs": [
    {
     "name": "stdout",
     "output_type": "stream",
     "text": [
      "tensor([[-0.0413,  0.0169, -0.9144],\n",
      "        [ 0.6723,  0.4820, -0.1355]], requires_grad=True)\n",
      "tensor([ 0.2271, -0.3506], requires_grad=True)\n"
     ]
    }
   ],
   "source": [
    "print(w)\n",
    "print(b)"
   ]
  },
  {
   "cell_type": "code",
   "execution_count": 44,
   "id": "9460648b-8672-4d83-93f1-6a1a67f1b8c0",
   "metadata": {},
   "outputs": [],
   "source": [
    "preds = model(inputs)"
   ]
  },
  {
   "cell_type": "code",
   "execution_count": 45,
   "id": "b525fd74-4590-4f3a-971e-67d6817793c6",
   "metadata": {},
   "outputs": [],
   "source": [
    "loss = mse(targets, preds)"
   ]
  },
  {
   "cell_type": "code",
   "execution_count": 46,
   "id": "239d30ae-6d47-47fa-acb1-17d7ca3a5702",
   "metadata": {},
   "outputs": [
    {
     "name": "stdout",
     "output_type": "stream",
     "text": [
      "tensor([[-10528.9287, -12165.0762,  -7443.8311],\n",
      "        [   101.7409,   -820.2252,   -406.9735]])\n",
      "tensor([-127.7559,   -1.7195])\n"
     ]
    }
   ],
   "source": [
    "loss.backward()\n",
    "print(w.grad)\n",
    "print(b.grad)"
   ]
  },
  {
   "cell_type": "code",
   "execution_count": 52,
   "id": "22af945f-3737-497d-88b0-037dea8171d8",
   "metadata": {},
   "outputs": [],
   "source": [
    "for i in range(100):\n",
    "    preds = model(inputs)\n",
    "    loss = mse(targets, preds)\n",
    "    loss.backward()\n",
    "    with torch.no_grad():\n",
    "        w-=w.grad * 1e-5\n",
    "        b-=b.grad * 1e-5\n",
    "        w.grad.zero_()\n",
    "        b.grad.zero_()\n"
   ]
  },
  {
   "cell_type": "code",
   "execution_count": 53,
   "id": "a1530516-a8d1-4df1-829e-8d8ad3f40e42",
   "metadata": {},
   "outputs": [
    {
     "data": {
      "text/plain": [
       "tensor([[-0.3340,  0.9597,  0.4025],\n",
       "        [-0.2416,  0.8894,  0.6713]], requires_grad=True)"
      ]
     },
     "execution_count": 53,
     "metadata": {},
     "output_type": "execute_result"
    }
   ],
   "source": [
    "w"
   ]
  },
  {
   "cell_type": "code",
   "execution_count": 54,
   "id": "defecaef-3bdf-47a1-a5bd-71d94297fa9d",
   "metadata": {},
   "outputs": [
    {
     "data": {
      "text/plain": [
       "tensor([ 0.2330, -0.3527], requires_grad=True)"
      ]
     },
     "execution_count": 54,
     "metadata": {},
     "output_type": "execute_result"
    }
   ],
   "source": [
    "b"
   ]
  },
  {
   "cell_type": "code",
   "execution_count": 55,
   "id": "3e50a69d-1dac-4162-975f-71c68a601e13",
   "metadata": {},
   "outputs": [
    {
     "data": {
      "text/plain": [
       "tensor([[0., 0., 0.],\n",
       "        [0., 0., 0.]])"
      ]
     },
     "execution_count": 55,
     "metadata": {},
     "output_type": "execute_result"
    }
   ],
   "source": [
    "w.grad"
   ]
  },
  {
   "cell_type": "code",
   "execution_count": 56,
   "id": "c44ba55c-a9c8-4def-9c84-0d8fb72c59b9",
   "metadata": {},
   "outputs": [
    {
     "data": {
      "text/plain": [
       "tensor([0., 0.])"
      ]
     },
     "execution_count": 56,
     "metadata": {},
     "output_type": "execute_result"
    }
   ],
   "source": [
    "b.grad"
   ]
  },
  {
   "cell_type": "code",
   "execution_count": 57,
   "id": "76956004-ec85-4b18-8f92-5e7a29db7518",
   "metadata": {},
   "outputs": [
    {
     "data": {
      "text/plain": [
       "tensor([[ 57.4587,  70.4670],\n",
       "        [ 80.0507,  98.8911],\n",
       "        [123.1257, 136.7495],\n",
       "        [ 22.3244,  38.0867],\n",
       "        [ 97.4899, 115.3480]], grad_fn=<AddBackward0>)"
      ]
     },
     "execution_count": 57,
     "metadata": {},
     "output_type": "execute_result"
    }
   ],
   "source": [
    "preds"
   ]
  },
  {
   "cell_type": "code",
   "execution_count": 59,
   "id": "f64c285e-40ff-462f-b0c0-3744bec14638",
   "metadata": {},
   "outputs": [
    {
     "data": {
      "text/plain": [
       "tensor([[ 56.,  70.],\n",
       "        [ 81., 101.],\n",
       "        [119., 133.],\n",
       "        [ 22.,  37.],\n",
       "        [103., 119.]])"
      ]
     },
     "execution_count": 59,
     "metadata": {},
     "output_type": "execute_result"
    }
   ],
   "source": [
    "targets"
   ]
  },
  {
   "cell_type": "code",
   "execution_count": null,
   "id": "cf164de6-05a1-407d-929b-97ba7e5037b9",
   "metadata": {},
   "outputs": [],
   "source": []
  }
 ],
 "metadata": {
  "kernelspec": {
   "display_name": "Python 3 (ipykernel)",
   "language": "python",
   "name": "python3"
  },
  "language_info": {
   "codemirror_mode": {
    "name": "ipython",
    "version": 3
   },
   "file_extension": ".py",
   "mimetype": "text/x-python",
   "name": "python",
   "nbconvert_exporter": "python",
   "pygments_lexer": "ipython3",
   "version": "3.11.7"
  }
 },
 "nbformat": 4,
 "nbformat_minor": 5
}
