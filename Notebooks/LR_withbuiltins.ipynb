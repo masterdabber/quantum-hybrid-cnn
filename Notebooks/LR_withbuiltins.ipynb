{
 "cells": [
  {
   "cell_type": "code",
   "execution_count": 11,
   "id": "e9391835-c201-410a-95cb-b064d5841862",
   "metadata": {},
   "outputs": [],
   "source": [
    "import torch.nn as nn\n",
    "import numpy as np"
   ]
  },
  {
   "cell_type": "code",
   "execution_count": 29,
   "id": "6271ae52-95b3-48d9-b411-cf559c674de7",
   "metadata": {},
   "outputs": [],
   "source": [
    "# Input (temp, rainfall, humidity)\n",
    "inputs = np.array([\n",
    "    [73, 67, 43], \n",
    "    [91, 88, 64], \n",
    "    [87, 134, 58],\n",
    "    [102, 43, 37], \n",
    "    [69, 96, 70], \n",
    "    [73, 67, 43],\n",
    "    [91, 88, 64], \n",
    "    [87, 134, 58], \n",
    "    [102, 43, 37], \n",
    "    [69, 96, 70]\n",
    "], dtype='float32')\n",
    "\n",
    "# Targets (apples, oranges)\n",
    "targets = np.array([\n",
    "    [56, 70], \n",
    "    [81, 101], \n",
    "    [119, 133],\n",
    "    [22, 37], \n",
    "    [103, 119], \n",
    "    [56, 70],\n",
    "    [81, 101], \n",
    "    [119, 133], \n",
    "    [22, 37], \n",
    "    [103, 119]\n",
    "], dtype='float32')\n"
   ]
  },
  {
   "cell_type": "code",
   "execution_count": 30,
   "id": "3d5e3844-915b-4ae9-bd5f-859eff405273",
   "metadata": {},
   "outputs": [],
   "source": [
    "inputs = torch.from_numpy(inputs)\n",
    "targets = torch.from_numpy(targets)\n"
   ]
  },
  {
   "cell_type": "code",
   "execution_count": 52,
   "id": "102dcd37-857e-4039-a374-e0d3183a00b0",
   "metadata": {},
   "outputs": [],
   "source": [
    "from torch.utils.data import TensorDataset\n",
    "from torch.utils.data import DataLoader"
   ]
  },
  {
   "cell_type": "code",
   "execution_count": 31,
   "id": "bbf3f4ae-061f-408f-bff4-03c7332a3775",
   "metadata": {},
   "outputs": [],
   "source": [
    "train_ds = TensorDataset(inputs, targets)\n"
   ]
  },
  {
   "cell_type": "code",
   "execution_count": 19,
   "id": "def97b18-2f57-466c-ba0e-4af8d7c4cfe9",
   "metadata": {},
   "outputs": [],
   "source": [
    "patch_size = 5\n",
    "train_dl = DataLoader(train_ds, patch_size, shuffle = True)"
   ]
  },
  {
   "cell_type": "code",
   "execution_count": 37,
   "id": "44125e0b-4bfd-4c42-b142-7680e7fcead0",
   "metadata": {},
   "outputs": [],
   "source": [
    "model = nn.Linear(3,2)"
   ]
  },
  {
   "cell_type": "code",
   "execution_count": 43,
   "id": "6fdb1cff-a48e-47f3-988e-d2ca31e91b82",
   "metadata": {},
   "outputs": [],
   "source": [
    "preds = model(inputs)"
   ]
  },
  {
   "cell_type": "code",
   "execution_count": 46,
   "id": "4fc240a7-46f4-4d7a-a641-5cc30619e981",
   "metadata": {},
   "outputs": [],
   "source": [
    "import torch.nn.functional as F"
   ]
  },
  {
   "cell_type": "code",
   "execution_count": 47,
   "id": "de0d43df-6f10-4d1e-8387-bf951335c10d",
   "metadata": {},
   "outputs": [],
   "source": [
    "loss_fn = F.mse_loss"
   ]
  },
  {
   "cell_type": "code",
   "execution_count": 48,
   "id": "4b7f960e-676e-4039-86d0-c562460ad1ef",
   "metadata": {},
   "outputs": [],
   "source": [
    "loss = loss_fn(model(inputs), targets)"
   ]
  },
  {
   "cell_type": "code",
   "execution_count": 51,
   "id": "1d15f609-c18a-412e-8199-697c6648f956",
   "metadata": {},
   "outputs": [],
   "source": [
    "opt = torch.optim.SGD(model.parameters(), lr = 1e-5)"
   ]
  },
  {
   "cell_type": "code",
   "execution_count": 55,
   "id": "a8636325-8124-4d75-8bfd-b4e3c4a3f9df",
   "metadata": {},
   "outputs": [],
   "source": [
    "def fit(num_epochs, model, loss_fn, opt):\n",
    "    for epoch in range(num_epochs):\n",
    "        for xb, yb in train_dl:\n",
    "            pred = model(xb)\n",
    "            loss = loss_fn(pred, yb)\n",
    "            loss.backward()\n",
    "            opt.step()\n",
    "            opt.zero_grad()\n",
    "            "
   ]
  },
  {
   "cell_type": "code",
   "execution_count": 60,
   "id": "2feef03e-0865-4dc6-bcdf-dfa862aad3e3",
   "metadata": {},
   "outputs": [],
   "source": [
    "fit(200, model, loss_fn, opt)"
   ]
  },
  {
   "cell_type": "code",
   "execution_count": 61,
   "id": "b047c785-5393-4605-a300-5559d9996040",
   "metadata": {},
   "outputs": [],
   "source": [
    "preds = model(inputs)"
   ]
  },
  {
   "cell_type": "code",
   "execution_count": 62,
   "id": "5192ddb5-626c-4aa9-81a5-e72af049741f",
   "metadata": {},
   "outputs": [
    {
     "data": {
      "text/plain": [
       "tensor([[ 57.4273,  70.6382],\n",
       "        [ 82.1027, 100.0433],\n",
       "        [118.4671, 133.7295],\n",
       "        [ 22.7480,  38.6642],\n",
       "        [100.7416, 117.1507],\n",
       "        [ 57.4273,  70.6382],\n",
       "        [ 82.1027, 100.0433],\n",
       "        [118.4671, 133.7295],\n",
       "        [ 22.7480,  38.6642],\n",
       "        [100.7416, 117.1507]], grad_fn=<AddmmBackward0>)"
      ]
     },
     "execution_count": 62,
     "metadata": {},
     "output_type": "execute_result"
    }
   ],
   "source": [
    "preds"
   ]
  },
  {
   "cell_type": "code",
   "execution_count": 59,
   "id": "db5925bf-7707-4753-88e6-cb7a1703c167",
   "metadata": {},
   "outputs": [
    {
     "data": {
      "text/plain": [
       "tensor([[ 56.,  70.],\n",
       "        [ 81., 101.],\n",
       "        [119., 133.],\n",
       "        [ 22.,  37.],\n",
       "        [103., 119.],\n",
       "        [ 56.,  70.],\n",
       "        [ 81., 101.],\n",
       "        [119., 133.],\n",
       "        [ 22.,  37.],\n",
       "        [103., 119.]])"
      ]
     },
     "execution_count": 59,
     "metadata": {},
     "output_type": "execute_result"
    }
   ],
   "source": [
    "targets"
   ]
  },
  {
   "cell_type": "code",
   "execution_count": null,
   "id": "ded52b92-fb5a-41fc-ba19-bc5b97f4c091",
   "metadata": {},
   "outputs": [],
   "source": []
  }
 ],
 "metadata": {
  "kernelspec": {
   "display_name": "Python 3 (ipykernel)",
   "language": "python",
   "name": "python3"
  },
  "language_info": {
   "codemirror_mode": {
    "name": "ipython",
    "version": 3
   },
   "file_extension": ".py",
   "mimetype": "text/x-python",
   "name": "python",
   "nbconvert_exporter": "python",
   "pygments_lexer": "ipython3",
   "version": "3.11.7"
  }
 },
 "nbformat": 4,
 "nbformat_minor": 5
}
